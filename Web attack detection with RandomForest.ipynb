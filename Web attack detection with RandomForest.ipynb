{
 "cells": [
  {
   "cell_type": "code",
   "execution_count": 40,
   "id": "a6c24ff6",
   "metadata": {},
   "outputs": [],
   "source": [
    "# Kode untuk melatih mesin belajar data pola serangan web \n",
    "# seperti SQLi, dan XSS\n",
    "# kode diadaptasi dari https://www.kaggle.com/code/tuantc3751/web-acesslog-detection-attack/notebook\n",
    "# by Henry Saptono"
   ]
  },
  {
   "cell_type": "code",
   "execution_count": 20,
   "id": "f22335bd",
   "metadata": {},
   "outputs": [],
   "source": [
    "import pandas as pd\n",
    "import numpy as np\n",
    "from sklearn.feature_extraction.text import TfidfVectorizer\n",
    "from sklearn.ensemble import RandomForestClassifier\n",
    "from sklearn.pipeline import Pipeline\n",
    "from sklearn.metrics import accuracy_score, precision_score, recall_score, f1_score\n",
    "from sklearn.model_selection import train_test_split\n",
    "\n",
    "\n",
    "from sklearn.preprocessing import LabelBinarizer\n",
    "from sklearn.preprocessing import LabelEncoder, OneHotEncoder\n",
    "from sklearn import metrics\n",
    "\n",
    "from scipy.sparse import issparse\n",
    "from imblearn.over_sampling import SMOTE\n",
    "import matplotlib.pyplot as plt\n",
    "\n",
    "from sklearn.metrics import roc_auc_score\n",
    "from sklearn.metrics import mean_absolute_error\n",
    "from sklearn.metrics import confusion_matrix\n",
    "from sklearn.metrics import classification_report"
   ]
  },
  {
   "cell_type": "code",
   "execution_count": 39,
   "id": "e199f589",
   "metadata": {},
   "outputs": [
    {
     "data": {
      "text/html": [
       "<div>\n",
       "<style scoped>\n",
       "    .dataframe tbody tr th:only-of-type {\n",
       "        vertical-align: middle;\n",
       "    }\n",
       "\n",
       "    .dataframe tbody tr th {\n",
       "        vertical-align: top;\n",
       "    }\n",
       "\n",
       "    .dataframe thead th {\n",
       "        text-align: right;\n",
       "    }\n",
       "</style>\n",
       "<table border=\"1\" class=\"dataframe\">\n",
       "  <thead>\n",
       "    <tr style=\"text-align: right;\">\n",
       "      <th></th>\n",
       "      <th>Payload</th>\n",
       "      <th>Label</th>\n",
       "      <th>text_label</th>\n",
       "      <th>ID</th>\n",
       "    </tr>\n",
       "  </thead>\n",
       "  <tbody>\n",
       "    <tr>\n",
       "      <th>0</th>\n",
       "      <td>&lt;xss onafterscriptexecute=alert(1)&gt;&lt;script&gt;1&lt;/...</td>\n",
       "      <td>1</td>\n",
       "      <td>XSS</td>\n",
       "      <td>1</td>\n",
       "    </tr>\n",
       "    <tr>\n",
       "      <th>1</th>\n",
       "      <td>&lt;style&gt;@keyframes x{from {left:0;}to {left: 10...</td>\n",
       "      <td>1</td>\n",
       "      <td>XSS</td>\n",
       "      <td>2</td>\n",
       "    </tr>\n",
       "    <tr>\n",
       "      <th>2</th>\n",
       "      <td>&lt;style&gt;@keyframes x{}&lt;/style&gt;&lt;xss style=\"anima...</td>\n",
       "      <td>1</td>\n",
       "      <td>XSS</td>\n",
       "      <td>3</td>\n",
       "    </tr>\n",
       "    <tr>\n",
       "      <th>3</th>\n",
       "      <td>&lt;style&gt;@keyframes slidein {}&lt;/style&gt;&lt;xss style...</td>\n",
       "      <td>1</td>\n",
       "      <td>XSS</td>\n",
       "      <td>4</td>\n",
       "    </tr>\n",
       "    <tr>\n",
       "      <th>4</th>\n",
       "      <td>&lt;style&gt;@keyframes x{}&lt;/style&gt;&lt;xss style=\"anima...</td>\n",
       "      <td>1</td>\n",
       "      <td>XSS</td>\n",
       "      <td>5</td>\n",
       "    </tr>\n",
       "  </tbody>\n",
       "</table>\n",
       "</div>"
      ],
      "text/plain": [
       "                                             Payload  Label text_label  ID\n",
       "0  <xss onafterscriptexecute=alert(1)><script>1</...      1        XSS   1\n",
       "1  <style>@keyframes x{from {left:0;}to {left: 10...      1        XSS   2\n",
       "2  <style>@keyframes x{}</style><xss style=\"anima...      1        XSS   3\n",
       "3  <style>@keyframes slidein {}</style><xss style...      1        XSS   4\n",
       "4  <style>@keyframes x{}</style><xss style=\"anima...      1        XSS   5"
      ]
     },
     "execution_count": 39,
     "metadata": {},
     "output_type": "execute_result"
    }
   ],
   "source": [
    "# Baca data pola serangan web yang telah di labeli (SQLi, XSS, Normal)\n",
    "# file data pola bisa diunduh disini https://huggingface.co/datasets/shengqin/web-attacks/blob/main/all.csv\n",
    "data = pd.read_csv(\"/home/boy/Testing/AI/cyber/dataset/web_attacks/web_attacks_all.csv\")\n",
    "data.head()"
   ]
  },
  {
   "cell_type": "code",
   "execution_count": 4,
   "id": "39198e5f",
   "metadata": {},
   "outputs": [
    {
     "data": {
      "text/html": [
       "<div>\n",
       "<style scoped>\n",
       "    .dataframe tbody tr th:only-of-type {\n",
       "        vertical-align: middle;\n",
       "    }\n",
       "\n",
       "    .dataframe tbody tr th {\n",
       "        vertical-align: top;\n",
       "    }\n",
       "\n",
       "    .dataframe thead th {\n",
       "        text-align: right;\n",
       "    }\n",
       "</style>\n",
       "<table border=\"1\" class=\"dataframe\">\n",
       "  <thead>\n",
       "    <tr style=\"text-align: right;\">\n",
       "      <th></th>\n",
       "      <th>Payload</th>\n",
       "      <th>Label</th>\n",
       "      <th>text_label</th>\n",
       "      <th>ID</th>\n",
       "    </tr>\n",
       "  </thead>\n",
       "  <tbody>\n",
       "    <tr>\n",
       "      <th>53905</th>\n",
       "      <td>Select a painting style for expression.</td>\n",
       "      <td>0</td>\n",
       "      <td>normal</td>\n",
       "      <td>53906</td>\n",
       "    </tr>\n",
       "    <tr>\n",
       "      <th>53906</th>\n",
       "      <td>Select the right playlist for the mood.</td>\n",
       "      <td>0</td>\n",
       "      <td>normal</td>\n",
       "      <td>53907</td>\n",
       "    </tr>\n",
       "    <tr>\n",
       "      <th>53907</th>\n",
       "      <td>Select a tea flavor to relax.</td>\n",
       "      <td>0</td>\n",
       "      <td>normal</td>\n",
       "      <td>53908</td>\n",
       "    </tr>\n",
       "    <tr>\n",
       "      <th>53908</th>\n",
       "      <td>Select a style for the haircut.</td>\n",
       "      <td>0</td>\n",
       "      <td>normal</td>\n",
       "      <td>53909</td>\n",
       "    </tr>\n",
       "    <tr>\n",
       "      <th>53909</th>\n",
       "      <td>Select the appropriate app for the task.</td>\n",
       "      <td>0</td>\n",
       "      <td>normal</td>\n",
       "      <td>53910</td>\n",
       "    </tr>\n",
       "  </tbody>\n",
       "</table>\n",
       "</div>"
      ],
      "text/plain": [
       "                                        Payload  Label text_label     ID\n",
       "53905   Select a painting style for expression.      0     normal  53906\n",
       "53906   Select the right playlist for the mood.      0     normal  53907\n",
       "53907             Select a tea flavor to relax.      0     normal  53908\n",
       "53908           Select a style for the haircut.      0     normal  53909\n",
       "53909  Select the appropriate app for the task.      0     normal  53910"
      ]
     },
     "execution_count": 4,
     "metadata": {},
     "output_type": "execute_result"
    }
   ],
   "source": [
    "data.tail()"
   ]
  },
  {
   "cell_type": "code",
   "execution_count": 22,
   "id": "30334727",
   "metadata": {},
   "outputs": [],
   "source": [
    "# set train_data dengan fitur Payload\n",
    "# dan label_data dengan text_label\n",
    "train_data = data[\"Payload\"].values\n",
    "label_data = data[\"text_label\"].values\n",
    "\n",
    "#bagi data untuk berlatih dan untuk test\n",
    "X_train, X_test, y_train, y_test = train_test_split(train_data, label_data, test_size=0.2, random_state=42)"
   ]
  },
  {
   "cell_type": "code",
   "execution_count": 23,
   "id": "89c8185f",
   "metadata": {},
   "outputs": [
    {
     "name": "stdout",
     "output_type": "stream",
     "text": [
      "['<xss onafterscriptexecute=alert(1)><script>1</script>'\n",
      " '<style>@keyframes x{from {left:0;}to {left: 1000px;}}:target {animation:10s ease-in-out 0s 1 x;}</style><xss id=x style=\"position:absolute;\" onanimationcancel=\"print()\"></xss>'\n",
      " '<style>@keyframes x{}</style><xss style=\"animation-name:x\" onanimationend=\"alert(1)\"></xss>'\n",
      " ... 'Select a tea flavor to relax.' 'Select a style for the haircut.'\n",
      " 'Select the appropriate app for the task.']\n"
     ]
    }
   ],
   "source": [
    "print(train_data)"
   ]
  },
  {
   "cell_type": "code",
   "execution_count": 24,
   "id": "2ce88656",
   "metadata": {},
   "outputs": [
    {
     "name": "stdout",
     "output_type": "stream",
     "text": [
      "['XSS' 'XSS' 'XSS' ... 'normal' 'normal' 'normal']\n"
     ]
    }
   ],
   "source": [
    "print(label_data)"
   ]
  },
  {
   "cell_type": "code",
   "execution_count": 8,
   "id": "29aff8da",
   "metadata": {},
   "outputs": [
    {
     "name": "stdout",
     "output_type": "stream",
     "text": [
      "[' modo=registro&login=sabin&password=m71ale8O&nombre=Devoto&apellidos=Aurich+Mach&email=harra-kilian@zonamodelos.ag&dni=02265933L&direccion=C/+Puente+Ulla,+182+6B&ciudad=Villanueva+de+la+Jara&cp=50299&provincia=Madrid&ntc=6764514910322971&B1=Registrar'\n",
      " \"-1603'   )    )    or 5903  =    (  'qqpjq'||  (  select case 5903 when 5903 then 1 else 0 end from rdb$database  )  ||'qzvzq'  )   and    (    (   'abmo'  =  'abmo\"\n",
      " '<img\\\\x13src=x onerror=\"javascript:alert(1)\">' ...\n",
      " ' modo=registro&login=osburn&password=48AsTa5O&nombre=Edilio&apellidos=Credid�o+Poma&email=ahern.plott@zonamodelos.fr&dni=36839675T&direccion=Patio+Pico+De+Aneto,+122+13-C&ciudad=Cuevas+del+Almanzora&cp=10666&provincia=Zamora&ntc=1933711327714835&B1=Registrar'\n",
      " '<DIV STYLE=\"background-image: url(javascript:alert(\\'XSS\\'))\">'\n",
      " '<style>:target {color: red;}</style><figure id=x style=\"transition:color 10s\" ontransitioncancel=alert(1)></figure>']\n"
     ]
    }
   ],
   "source": [
    "print(X_train)"
   ]
  },
  {
   "cell_type": "code",
   "execution_count": 25,
   "id": "c5d9d8eb",
   "metadata": {},
   "outputs": [
    {
     "name": "stdout",
     "output_type": "stream",
     "text": [
      "['normal' 'SQLi' 'XSS' ... 'normal' 'XSS' 'XSS']\n"
     ]
    }
   ],
   "source": [
    "print(y_train)"
   ]
  },
  {
   "cell_type": "code",
   "execution_count": 10,
   "id": "100067b1",
   "metadata": {},
   "outputs": [
    {
     "name": "stdout",
     "output_type": "stream",
     "text": [
      "['<video draggable=\"true\" ondragend=\"alert(1)\">test</video>'\n",
      " ' union all select @@version--'\n",
      " 'modo=registro&login=lena&password=ATE7t3r&nombre=Solana&apellidos=Ugartechea+Oviol&email=fortes@corjet.au&dni=84082482W&direccion=C/+Cardenal+Cisneros+70,+12?D&ciudad=Peligros&cp=22416&provincia=Zaragoza&ntc=8590730598040371&B1=Registrar'\n",
      " ... 'Krish,Muthukumarasamy,6155,Air Defense Artillery (ADA)'\n",
      " ' modo=registro&login=missagh&password=f�sforo&nombre=Danilo&apellidos=Lizancos&email=pambieri2@ofertachina.uz&dni=71823012S&direccion=Antonio+Diaz+Ca�abate,+4+&ciudad=Sada&cp=26315&provincia=Madrid&ntc=1872652721088386&B1=Registrar'\n",
      " '<a href=\"\\\\x15javascript:javascript:alert(1)\" id=\"fuzzelement1\">test</a>']\n"
     ]
    }
   ],
   "source": [
    "print(X_test)"
   ]
  },
  {
   "cell_type": "code",
   "execution_count": 26,
   "id": "294558b1",
   "metadata": {},
   "outputs": [
    {
     "name": "stdout",
     "output_type": "stream",
     "text": [
      "['XSS' 'SQLi' 'normal' ... 'normal' 'normal' 'XSS']\n"
     ]
    }
   ],
   "source": [
    "print(y_test)"
   ]
  },
  {
   "cell_type": "code",
   "execution_count": 12,
   "id": "a5a9266b",
   "metadata": {},
   "outputs": [
    {
     "name": "stdout",
     "output_type": "stream",
     "text": [
      "(43128,)\n"
     ]
    }
   ],
   "source": [
    "print(X_train.shape)"
   ]
  },
  {
   "cell_type": "code",
   "execution_count": 14,
   "id": "25603c52",
   "metadata": {},
   "outputs": [
    {
     "name": "stdout",
     "output_type": "stream",
     "text": [
      "(43128,)\n"
     ]
    }
   ],
   "source": [
    "print(y_train.shape)"
   ]
  },
  {
   "cell_type": "code",
   "execution_count": 15,
   "id": "589377d0",
   "metadata": {},
   "outputs": [
    {
     "name": "stdout",
     "output_type": "stream",
     "text": [
      "(10782,)\n"
     ]
    }
   ],
   "source": [
    "print(X_test.shape)"
   ]
  },
  {
   "cell_type": "code",
   "execution_count": 16,
   "id": "ce2e6b0e",
   "metadata": {},
   "outputs": [
    {
     "name": "stdout",
     "output_type": "stream",
     "text": [
      "(10782,)\n"
     ]
    }
   ],
   "source": [
    "print(y_test.shape)"
   ]
  },
  {
   "cell_type": "code",
   "execution_count": 28,
   "id": "0b857d50",
   "metadata": {},
   "outputs": [],
   "source": [
    "# Mengubah teks menjadi vektor fitur yang dapat digunakan sebagai input ke estimator.\n",
    "vectorizer = TfidfVectorizer(min_df=0.0, analyzer=\"char\", sublinear_tf=True, ngram_range=(3, 3), max_features=8000)\n",
    "# Transform the training data into a TF-IDF matrix\n",
    "tfidf_train = vectorizer.fit_transform(X_train)  # (19882, 8000) sparse matrix\n",
    "tfidf_test = vectorizer.transform(X_test)  # (4971, 8000) sparse matrix\n",
    "\n",
    "# Convert sparse matrices to dense\n",
    "X_train_dense = tfidf_train.toarray()  # (19882, 8000)\n",
    "X_test_dense = tfidf_test.toarray()  # (4971, 8000)\n",
    "X_train_dense = X_train_dense.reshape((X_train_dense.shape[0], X_train_dense.shape[1], 1))\n",
    "X_test_dense = X_test_dense.reshape((X_test_dense.shape[0], X_test_dense.shape[1], 1))"
   ]
  },
  {
   "cell_type": "code",
   "execution_count": 29,
   "id": "0197aec9",
   "metadata": {},
   "outputs": [
    {
     "name": "stdout",
     "output_type": "stream",
     "text": [
      "Computing....\n",
      "Done!\n"
     ]
    }
   ],
   "source": [
    "# mengubah variabel kategoris ke dalam bentuk numerik.\n",
    "label_encode = LabelEncoder()\n",
    "y_test_encode = label_encode.fit_transform(y_test)\n",
    "y_train_encode = label_encode.transform(y_train)\n",
    "# One-hot encoding for multi-class classification\n",
    "one_hot_encoder = OneHotEncoder(sparse_output=False)\n",
    "y_train_encode = one_hot_encoder.fit_transform(y_train_encode.reshape(-1, 1))\n",
    "y_test_encode = one_hot_encoder.transform(y_test_encode.reshape(-1, 1))\n",
    "\n",
    "# Buat model\n",
    "random_forest_model = RandomForestClassifier(random_state=1000)\n",
    "print('Computing....')\n",
    "# Fit the model\n",
    "random_forest_model.fit(tfidf_train,y_train_encode)\n",
    "print('Done!')"
   ]
  },
  {
   "cell_type": "code",
   "execution_count": 30,
   "id": "667b5d01",
   "metadata": {},
   "outputs": [
    {
     "name": "stdout",
     "output_type": "stream",
     "text": [
      "MAE 0.0028133308600754342\n",
      "Accuracy 0.9948989055833797\n",
      "Precision 0.9949466051617541\n",
      "Recall 0.9984978218416705\n",
      "F1 0.9967089241826161\n",
      "ROC AUC 0.9967858386544756\n",
      "Test error: 0.3%\n"
     ]
    }
   ],
   "source": [
    "# Predict test\n",
    "RT_predictions= random_forest_model.predict(tfidf_test)\n",
    "print('MAE', mean_absolute_error(y_test_encode, RT_predictions))\n",
    "print(\"Accuracy\", accuracy_score(y_test_encode, RT_predictions))\n",
    "print(\"Precision\", precision_score(y_test_encode, RT_predictions, average='weighted', labels=np.unique(RT_predictions)))\n",
    "print(\"Recall\", recall_score(y_test_encode, RT_predictions, average='weighted', labels=np.unique(RT_predictions)))\n",
    "print(\"F1\", f1_score(y_test_encode, RT_predictions, average='weighted', labels=np.unique(RT_predictions)))\n",
    "print(\"ROC AUC\", roc_auc_score(y_test_encode, RT_predictions, average='weighted', labels=np.unique(RT_predictions)))\n",
    "error_rt = (RT_predictions != y_test_encode).mean()\n",
    "print(\"Test error: {:.1%}\".format(error_rt))"
   ]
  },
  {
   "cell_type": "code",
   "execution_count": 31,
   "id": "c6259bb4",
   "metadata": {},
   "outputs": [
    {
     "name": "stdout",
     "output_type": "stream",
     "text": [
      "Confusion Matrix:\n",
      "[[2993    0    1]\n",
      " [   7 3655    1]\n",
      " [  45    0 4080]]\n"
     ]
    },
    {
     "data": {
      "image/png": "[encoded data removed]",
      "text/plain": [
       "<Figure size 800x600 with 1 Axes>"
      ]
     },
     "metadata": {},
     "output_type": "display_data"
    }
   ],
   "source": [
    "import seaborn as sns\n",
    "# Make predictions on the test data\n",
    "y_pred_prob = random_forest_model.predict(tfidf_test)\n",
    "\n",
    "# Convert probabilities to class labels\n",
    "y_pred = np.argmax(y_pred_prob, axis=1)\n",
    "y_test_labels = np.argmax(y_test_encode, axis=1)\n",
    "\n",
    "# Calculate the confusion matrix\n",
    "cm = confusion_matrix(y_test_labels, y_pred)\n",
    "\n",
    "# Print the confusion matrix\n",
    "print(\"Confusion Matrix:\")\n",
    "print(cm)\n",
    "# Vẽ heatmap cho confusion matrix\n",
    "plt.figure(figsize=(8, 6))\n",
    "sns.heatmap(cm, annot=True, fmt='d', cmap='Blues', cbar=False,\n",
    "            xticklabels=np.arange(cm.shape[1]), yticklabels=np.arange(cm.shape[0]))\n",
    "plt.xlabel('Predicted Labels')\n",
    "plt.ylabel('True Labels')\n",
    "plt.title('Confusion Matrix')\n",
    "plt.show()"
   ]
  },
  {
   "cell_type": "code",
   "execution_count": 32,
   "id": "83e1cfb6",
   "metadata": {},
   "outputs": [],
   "source": [
    "# mengubah label input menjadi label biner\n",
    "label_binarizer = LabelBinarizer()\n",
    "y_test_binary = label_binarizer.fit_transform(y_test)\n",
    "y_train_binary = label_binarizer.fit_transform(y_train)"
   ]
  },
  {
   "cell_type": "code",
   "execution_count": 33,
   "id": "7de89335",
   "metadata": {},
   "outputs": [
    {
     "name": "stdout",
     "output_type": "stream",
     "text": [
      "['XSS' 'SQLi' 'normal' ... 'normal' 'normal' 'XSS']\n",
      "['normal' 'SQLi' 'XSS' ... 'normal' 'XSS' 'XSS']\n",
      "[0 1 0]\n",
      "XSS\n"
     ]
    }
   ],
   "source": [
    "print(y_test)\n",
    "print(y_train)\n",
    "print(y_test_binary[0])\n",
    "print(y_test[0])"
   ]
  },
  {
   "cell_type": "code",
   "execution_count": 34,
   "id": "36e90ef3",
   "metadata": {},
   "outputs": [
    {
     "name": "stdout",
     "output_type": "stream",
     "text": [
      "Class labels: ['SQLi' 'XSS' 'normal']\n"
     ]
    }
   ],
   "source": [
    "print(\"Class labels:\", label_binarizer.classes_)"
   ]
  },
  {
   "cell_type": "code",
   "execution_count": 35,
   "id": "fe1e5c97",
   "metadata": {},
   "outputs": [],
   "source": [
    "# Simpan model dan vectorizer ke file pickle\n",
    "import pickle\n",
    "\n",
    "pickle.dump(random_forest_model, open(\"/home/boy/Testing/AI/cyber/dataset/web_attacks/web_detect2.model\", 'wb'))\n",
    "pickle.dump(vectorizer, open(\"/home/boy/Testing/AI/cyber/dataset/web_attacks/web_detect2.vectorizer\", 'wb'))"
   ]
  },
  {
   "cell_type": "code",
   "execution_count": 36,
   "id": "1c3109ec",
   "metadata": {},
   "outputs": [],
   "source": [
    "# Menguji  memuat ulang model dari file\n",
    "model_load= pickle.load(open('/home/boy/Testing/AI/cyber/dataset/web_attacks/web_detect.model','rb'))"
   ]
  },
  {
   "cell_type": "code",
   "execution_count": 37,
   "id": "a3a27dc4",
   "metadata": {},
   "outputs": [
    {
     "name": "stdout",
     "output_type": "stream",
     "text": [
      "[[0. 1. 0.]\n",
      " [1. 0. 0.]]\n",
      "['SQLi' 'XSS' 'normal']\n"
     ]
    }
   ],
   "source": [
    "# Coba memprediksi\n",
    "cek_x = np.array([\"<script>alert()</script>\",\"q=' union select 1,2 --'\"])\n",
    "tfidf_cek_x = vectorizer.transform(cek_x)\n",
    "X_ = tfidf_cek_x.toarray() \n",
    "\n",
    "y_ = model_load.predict(X_)\n",
    "print(y_)\n",
    "print(label_binarizer.classes_)"
   ]
  },
  {
   "cell_type": "code",
   "execution_count": 38,
   "id": "8aaa504a",
   "metadata": {},
   "outputs": [
    {
     "name": "stdout",
     "output_type": "stream",
     "text": [
      "['XSS']\n",
      "['SQLi']\n"
     ]
    }
   ],
   "source": [
    "for i in y_:\n",
    "    print(label_binarizer.classes_[np.where(i==1)[0:]])"
   ]
  },
  {
   "cell_type": "code",
   "execution_count": null,
   "id": "6c106961",
   "metadata": {},
   "outputs": [],
   "source": []
  }
 ],
 "metadata": {
  "kernelspec": {
   "display_name": "Python 3 (ipykernel)",
   "language": "python",
   "name": "python3"
  },
  "language_info": {
   "codemirror_mode": {
    "name": "ipython",
    "version": 3
   },
   "file_extension": ".py",
   "mimetype": "text/x-python",
   "name": "python",
   "nbconvert_exporter": "python",
   "pygments_lexer": "ipython3",
   "version": "3.12.3"
  }
 },
 "nbformat": 4,
 "nbformat_minor": 5
}
